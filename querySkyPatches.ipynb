{
 "cells": [
  {
   "cell_type": "code",
   "execution_count": 1,
   "metadata": {},
   "outputs": [
    {
     "name": "stdout",
     "output_type": "stream",
     "text": [
      "Created TAP+ (v1.0.1) - Connection:\n",
      "\tHost: gea.esac.esa.int\n",
      "\tUse HTTPS: False\n",
      "\tPort: 80\n",
      "\tSSL Port: 443\n"
     ]
    }
   ],
   "source": [
    "import astropy.coordinates as coord\n",
    "from astropy.table import Table, vstack\n",
    "from astropy.io import ascii \n",
    "import astropy.units as u\n",
    "import healpy\n",
    "import numpy as np\n",
    "import matplotlib as mpl\n",
    "import matplotlib.pyplot as plt\n",
    "%matplotlib inline\n",
    "\n",
    "from astroquery.gaia import Gaia\n",
    "Gaia.login(user='lander01', password='EsaGaia1234!')\n",
    "\n",
    "from astropy.io import fits\n",
    "import os.path"
   ]
  },
  {
   "cell_type": "code",
   "execution_count": 2,
   "metadata": {
    "collapsed": true
   },
   "outputs": [],
   "source": [
    "q = '''SELECT\n",
    "  gaia_healpix_index({level}, source_id) AS healpixy,\n",
    "  count(*) AS num,\n",
    "  avg(pmra) AS avg_pmra,\n",
    "  avg(pmdec) AS avg_pmdec\n",
    "FROM gaiadr1.tgas_source\n",
    "WHERE (parallax < {plx_max:.2f}) AND (parallax > {plx_min:.2f}) AND (parallax/parallax_error > 5)\n",
    "GROUP BY healpixy\n",
    "'''\n",
    "#halo stars \n",
    "\n",
    "haloq = \"\"\"SELECT *\n",
    "FROM gaiadr2.gaia_source             \n",
    "WHERE ABS((1000/parallax)*SIN(RADIANS(b))) > 750 AND MOD(random_index, 10000) = 0\"\"\"\n",
    "\n",
    "#2D dust map\n",
    "\n",
    "dustq = \"\"\"SELECT\n",
    "  gaia_healpix_index(11, source_id) AS healpixy,\n",
    "  count(*) AS num,\n",
    "  LOG(SUM(EXP(a_g_val*a_g_val))) AS a_g_sum_sq,\n",
    "  LOG(AVG(EXP(a_g_val))) AS avg_a_g\n",
    "FROM gaiadr2.gaia_source\n",
    "WHERE (parallax < 1) AND (parallax IS NOT NULL) AND (a_g_val IS NOT NULL)\n",
    "GROUP BY healpixy\"\"\"\n",
    "\n",
    "redHaloCount = \"\"\"SELECT COUNT(*)\n",
    "FROM gaiadr2.gaia_source\n",
    "WHERE (1/parallax)*SIN(RADIANS(b)) > 1 AND (bp_rp - e_bp_min_rp_val > 2.0) AND (bp_rp - e_bp_min_rp_val < 4.0)\n",
    "\"\"\"\n",
    "\n",
    "redHaloSky = \"\"\"SELECT *\n",
    "FROM gaiadr2.gaia_source\n",
    "WHERE (parallax < 1.) AND (b >= {bmin:.2f}) AND (b < {bmax:.2f})\n",
    "  AND (bp_rp > 2.0) AND (bp_rp < 5.0)\n",
    "  AND (l >= {lmin:.2f}) AND (l < {lmax:.2f})\"\"\"\n",
    "\n",
    "blueHaloSky = \"\"\"SELECT *\n",
    "FROM gaiadr2.gaia_source\n",
    "WHERE (parallax < 1.) AND (b >= {bmin:.2f}) AND (b < {bmax:.2f})\n",
    "  AND (bp_rp > 1.0) AND (bp_rp <= 2.0)\n",
    "  AND (l >= {lmin:.2f}) AND (l < {lmax:.2f})\"\"\"\n",
    "\n"
   ]
  },
  {
   "cell_type": "code",
   "execution_count": null,
   "metadata": {},
   "outputs": [
    {
     "name": "stdout",
     "output_type": "stream",
     "text": [
      "Launched query: 'SELECT *\n",
      "FROM gaiadr2.gaia_source\n",
      "WHERE (parallax < 1.) AND (b >= -90.00) AND (b < -45.00)\n",
      "  AND (bp_rp > 1.0) AND (bp_rp <= 2.0)\n",
      "  AND (l >= 0.00) AND (l < 90.00)'\n",
      "Retrieving async. results...\n"
     ]
    }
   ],
   "source": [
    "ledges = [0, 90, 180, 270, 360]\n",
    "bmins = [-90, -45, 30, 45]\n",
    "bmaxs = [-45, -30, 45, 90]\n",
    "\n",
    "jobnamePre = 'gaiaBlueHalo{bmin}_{bmax}_{lmin}_{lmax}'\n",
    "\n",
    "for lmin, lmax in zip(ledges[:-1], ledges[1:]):\n",
    "    for bmin, bmax in zip(bmins, bmaxs):\n",
    "        jobname = jobnamePre.format(bmin=bmin,bmax=bmax,lmin=lmin,lmax=lmax)\n",
    "        if os.path.isfile(jobname + '.fits'): continue\n",
    "        else:\n",
    "            query = blueHaloSky.format(bmin=bmin, bmax=bmax, lmin=lmin, lmax=lmax)\n",
    "            try: \n",
    "                job = Gaia.launch_job_async(query, name=jobname)\n",
    "                jobid = job.get_jobid()\n",
    "            except ConnectionResetError:\n",
    "                job = Gaia.load_async_job(jobid)\n",
    "            tbl = job.get_results()\n",
    "            failed_type = tbl[\"designation\"].dtype\n",
    "            for name in tbl.dtype.names:\n",
    "                if tbl[name].dtype == failed_type:\n",
    "                    tbl[name] = tbl[name].astype(str)\n",
    "            tbl.write(jobname + '.fits')\n",
    "            Gaia.remove_jobs([job.get_jobid()])"
   ]
  },
  {
   "cell_type": "code",
   "execution_count": 5,
   "metadata": {
    "collapsed": true
   },
   "outputs": [],
   "source": [
    "import glob"
   ]
  },
  {
   "cell_type": "code",
   "execution_count": 15,
   "metadata": {},
   "outputs": [
    {
     "data": {
      "text/plain": [
       "['gaiaRedHalo-45_-30_0_90.fits',\n",
       " 'gaiaRedHalo-45_-30_180_360.fits',\n",
       " 'gaiaRedHalo-45_-30_90_180.fits',\n",
       " 'gaiaRedHalo-90_-45_0_90.fits',\n",
       " 'gaiaRedHalo-90_-45_180_360.fits',\n",
       " 'gaiaRedHalo-90_-45_90_180.fits',\n",
       " 'gaiaRedHalo30_45_0_90.fits',\n",
       " 'gaiaRedHalo30_45_180_360.fits',\n",
       " 'gaiaRedHalo30_45_90_180.fits',\n",
       " 'gaiaRedHalo45_90_0_90.fits',\n",
       " 'gaiaRedHalo45_90_180_360.fits',\n",
       " 'gaiaRedHalo45_90_90_180.fits']"
      ]
     },
     "execution_count": 15,
     "metadata": {},
     "output_type": "execute_result"
    }
   ],
   "source": [
    "files = glob.glob('gaiaRedHalo*.fits')\n",
    "files"
   ]
  },
  {
   "cell_type": "code",
   "execution_count": 16,
   "metadata": {},
   "outputs": [
    {
     "name": "stdout",
     "output_type": "stream",
     "text": [
      "gaiaRedHalo-45_-30_180_360.fits 928823\n",
      "gaiaRedHalo-45_-30_90_180.fits 350593\n",
      "gaiaRedHalo-90_-45_0_90.fits 308880\n",
      "gaiaRedHalo-90_-45_180_360.fits 555719\n",
      "gaiaRedHalo-90_-45_90_180.fits 240009\n",
      "gaiaRedHalo30_45_0_90.fits 779893\n",
      "gaiaRedHalo30_45_180_360.fits 779893\n",
      "gaiaRedHalo30_45_90_180.fits 354813\n",
      "gaiaRedHalo45_90_0_90.fits 309757\n",
      "gaiaRedHalo45_90_180_360.fits 501933\n",
      "gaiaRedHalo45_90_90_180.fits 227135\n"
     ]
    }
   ],
   "source": [
    "hdu = fits.open(files[0])\n",
    "gaiaData = Table(hdu[1].data)\n",
    "\n",
    "for f in files[1:]:\n",
    "    hdu = fits.open(f)\n",
    "    print(f, len(hdu[1].data))\n",
    "    gaiaData = vstack((gaiaData, Table(hdu[1].data)))"
   ]
  },
  {
   "cell_type": "code",
   "execution_count": 11,
   "metadata": {},
   "outputs": [
    {
     "data": {
      "text/html": [
       "<i>Table length=468827</i>\n",
       "<table id=\"table4550156072\" class=\"table-striped table-bordered table-condensed\">\n",
       "<thead><tr><th>solution_id</th><th>designation</th><th>source_id</th><th>random_index</th><th>ref_epoch</th><th>ra</th><th>ra_error</th><th>dec</th><th>dec_error</th><th>parallax</th><th>parallax_error</th><th>parallax_over_error</th><th>pmra</th><th>pmra_error</th><th>pmdec</th><th>pmdec_error</th><th>ra_dec_corr</th><th>ra_parallax_corr</th><th>ra_pmra_corr</th><th>ra_pmdec_corr</th><th>dec_parallax_corr</th><th>dec_pmra_corr</th><th>dec_pmdec_corr</th><th>parallax_pmra_corr</th><th>parallax_pmdec_corr</th><th>pmra_pmdec_corr</th><th>astrometric_n_obs_al</th><th>astrometric_n_obs_ac</th><th>astrometric_n_good_obs_al</th><th>astrometric_n_bad_obs_al</th><th>astrometric_gof_al</th><th>astrometric_chi2_al</th><th>astrometric_excess_noise</th><th>astrometric_excess_noise_sig</th><th>astrometric_params_solved</th><th>astrometric_primary_flag</th><th>astrometric_weight_al</th><th>astrometric_pseudo_colour</th><th>astrometric_pseudo_colour_error</th><th>mean_varpi_factor_al</th><th>astrometric_matched_observations</th><th>visibility_periods_used</th><th>astrometric_sigma5d_max</th><th>frame_rotator_object_type</th><th>matched_observations</th><th>duplicated_source</th><th>phot_g_n_obs</th><th>phot_g_mean_flux</th><th>phot_g_mean_flux_error</th><th>phot_g_mean_flux_over_error</th><th>phot_g_mean_mag</th><th>phot_bp_n_obs</th><th>phot_bp_mean_flux</th><th>phot_bp_mean_flux_error</th><th>phot_bp_mean_flux_over_error</th><th>phot_bp_mean_mag</th><th>phot_rp_n_obs</th><th>phot_rp_mean_flux</th><th>phot_rp_mean_flux_error</th><th>phot_rp_mean_flux_over_error</th><th>phot_rp_mean_mag</th><th>phot_bp_rp_excess_factor</th><th>phot_proc_mode</th><th>bp_rp</th><th>bp_g</th><th>g_rp</th><th>radial_velocity</th><th>radial_velocity_error</th><th>rv_nb_transits</th><th>rv_template_teff</th><th>rv_template_logg</th><th>rv_template_fe_h</th><th>phot_variable_flag</th><th>l</th><th>b</th><th>ecl_lon</th><th>ecl_lat</th><th>priam_flags</th><th>teff_val</th><th>teff_percentile_lower</th><th>teff_percentile_upper</th><th>a_g_val</th><th>a_g_percentile_lower</th><th>a_g_percentile_upper</th><th>e_bp_min_rp_val</th><th>e_bp_min_rp_percentile_lower</th><th>e_bp_min_rp_percentile_upper</th><th>flame_flags</th><th>radius_val</th><th>radius_percentile_lower</th><th>radius_percentile_upper</th><th>lum_val</th><th>lum_percentile_lower</th><th>lum_percentile_upper</th><th>datalink_url</th><th>epoch_photometry_url</th></tr></thead>\n",
       "<thead><tr><th>int64</th><th>str28</th><th>int64</th><th>int64</th><th>float64</th><th>float64</th><th>float64</th><th>float64</th><th>float64</th><th>float64</th><th>float64</th><th>float32</th><th>float64</th><th>float64</th><th>float64</th><th>float64</th><th>float32</th><th>float32</th><th>float32</th><th>float32</th><th>float32</th><th>float32</th><th>float32</th><th>float32</th><th>float32</th><th>float32</th><th>int32</th><th>int32</th><th>int32</th><th>int32</th><th>float32</th><th>float32</th><th>float64</th><th>float64</th><th>int16</th><th>bool</th><th>float32</th><th>float64</th><th>float64</th><th>float32</th><th>int16</th><th>int16</th><th>float32</th><th>int32</th><th>int16</th><th>bool</th><th>int32</th><th>float64</th><th>float64</th><th>float32</th><th>float32</th><th>int32</th><th>float64</th><th>float64</th><th>float32</th><th>float32</th><th>int32</th><th>float64</th><th>float64</th><th>float32</th><th>float32</th><th>float32</th><th>int16</th><th>float32</th><th>float32</th><th>float32</th><th>float64</th><th>float64</th><th>int32</th><th>float32</th><th>float32</th><th>float32</th><th>str13</th><th>float64</th><th>float64</th><th>float64</th><th>float64</th><th>int64</th><th>float32</th><th>float32</th><th>float32</th><th>float32</th><th>float32</th><th>float32</th><th>float32</th><th>float32</th><th>float32</th><th>int64</th><th>float32</th><th>float32</th><th>float32</th><th>float32</th><th>float32</th><th>float32</th><th>str77</th><th>str99</th></tr></thead>\n",
       "<tr><td>1635721458409799680</td><td>Gaia DR2 6680608701630013184</td><td>6680608701630013184</td><td>633162250</td><td>2015.5</td><td>306.49236966972484</td><td>0.34895780750456246</td><td>-41.053155929907014</td><td>0.34751222385784963</td><td>0.37276119970039867</td><td>0.4526920771517934</td><td>0.82343215</td><td>12.132489237907265</td><td>0.6038034981623494</td><td>2.145998506998531</td><td>0.652382083335308</td><td>0.41386843</td><td>0.09302671</td><td>-0.07512965</td><td>-0.47285938</td><td>-0.02942749</td><td>-0.33389625</td><td>-0.4573146</td><td>-0.4052529</td><td>-0.17855957</td><td>0.3307476</td><td>175</td><td>0</td><td>172</td><td>3</td><td>1.1303481</td><td>187.79951</td><td>0.4052938479487371</td><td>0.23103999369959838</td><td>31</td><td>False</td><td>0.1432145</td><td>1.2636486275923275</td><td>0.07957975537015369</td><td>0.17061317</td><td>20</td><td>12</td><td>0.69343174</td><td>0</td><td>21</td><td>False</td><td>181</td><td>340.28547744057215</td><td>1.207858360525497</td><td>281.72632</td><td>19.358757</td><td>17</td><td>97.10212333119394</td><td>6.071009749659444</td><td>15.994394</td><td>20.383316</td><td>20</td><td>393.4362932247231</td><td>6.802140252717126</td><td>57.840073</td><td>18.274734</td><td>1.4415497</td><td>0</td><td>2.1085815</td><td>1.024559</td><td>1.0840225</td><td>nan</td><td>nan</td><td>0</td><td>nan</td><td>nan</td><td>nan</td><td>NOT_AVAILABLE</td><td>0.047782810121176855</td><td>-34.64672830582538</td><td>298.74992204884524</td><td>-21.186989690509556</td><td>999999</td><td>nan</td><td>nan</td><td>nan</td><td>nan</td><td>nan</td><td>nan</td><td>nan</td><td>nan</td><td>nan</td><td>999999</td><td>nan</td><td>nan</td><td>nan</td><td>nan</td><td>nan</td><td>nan</td><td>http://geadata.esac.esa.int/data-server/datalink/links?ID=6680608701630013184</td><td>?</td></tr>\n",
       "<tr><td>1635721458409799680</td><td>Gaia DR2 6680584276152361216</td><td>6680584276152361216</td><td>624420139</td><td>2015.5</td><td>306.6472093830671</td><td>0.2739827274291423</td><td>-41.10553774207437</td><td>0.23919924601591094</td><td>0.4968586568174306</td><td>0.39366823162118847</td><td>1.2621254</td><td>1.8538001342415995</td><td>0.5159329528816636</td><td>1.082503879734341</td><td>0.484461476097686</td><td>0.26649052</td><td>0.2493097</td><td>-0.09542112</td><td>-0.4198123</td><td>0.15782827</td><td>-0.3171661</td><td>-0.54483056</td><td>-0.4090531</td><td>-0.2499636</td><td>0.17086123</td><td>253</td><td>0</td><td>253</td><td>0</td><td>1.1930772</td><td>274.81683</td><td>0.0</td><td>0.0</td><td>31</td><td>False</td><td>0.17393619</td><td>1.4845385652321552</td><td>0.06550893038373663</td><td>0.03225444</td><td>29</td><td>12</td><td>0.5267055</td><td>0</td><td>31</td><td>True</td><td>271</td><td>363.6979443239431</td><td>1.0096301753505417</td><td>360.22888</td><td>19.286514</td><td>31</td><td>103.67449514182009</td><td>6.591486967564287</td><td>15.728544</td><td>20.312208</td><td>28</td><td>415.2057681730034</td><td>6.571775823831183</td><td>63.18015</td><td>18.21626</td><td>1.4266791</td><td>0</td><td>2.0959473</td><td>1.0256939</td><td>1.0702534</td><td>nan</td><td>nan</td><td>0</td><td>nan</td><td>nan</td><td>nan</td><td>NOT_AVAILABLE</td><td>0.0033706649712931486</td><td>-34.76934167786076</td><td>298.85673390821637</td><td>-21.26732536574616</td><td>999999</td><td>nan</td><td>nan</td><td>nan</td><td>nan</td><td>nan</td><td>nan</td><td>nan</td><td>nan</td><td>nan</td><td>999999</td><td>nan</td><td>nan</td><td>nan</td><td>nan</td><td>nan</td><td>nan</td><td>http://geadata.esac.esa.int/data-server/datalink/links?ID=6680584276152361216</td><td>?</td></tr>\n",
       "<tr><td>1635721458409799680</td><td>Gaia DR2 6680697835086463232</td><td>6680697835086463232</td><td>118551123</td><td>2015.5</td><td>307.2992504210615</td><td>1.2248299210733358</td><td>-40.42987571205121</td><td>0.7696467961020568</td><td>-1.1486197647864735</td><td>1.2306213999107563</td><td>-0.93336564</td><td>1.0684690202443434</td><td>2.3605111944406296</td><td>-17.49445323437289</td><td>1.6528795909206337</td><td>0.48015228</td><td>0.499298</td><td>-0.58746946</td><td>-0.5590059</td><td>0.15340161</td><td>-0.5002122</td><td>-0.7039546</td><td>-0.3809983</td><td>-0.19171833</td><td>0.30952233</td><td>250</td><td>0</td><td>249</td><td>1</td><td>0.39227113</td><td>252.08662</td><td>0.0</td><td>0.0</td><td>31</td><td>False</td><td>0.022926865</td><td>1.246287176545256</td><td>0.20330323736049613</td><td>0.028620165</td><td>30</td><td>10</td><td>2.4101665</td><td>0</td><td>31</td><td>False</td><td>260</td><td>96.39693361482071</td><td>0.8603364562153357</td><td>112.04562</td><td>20.728209</td><td>6</td><td>31.246655009451946</td><td>14.022501535328065</td><td>2.2283225</td><td>21.61438</td><td>13</td><td>151.1110059481023</td><td>7.580201442692506</td><td>19.93496</td><td>19.31368</td><td>1.8917371</td><td>0</td><td>2.3006992</td><td>0.88617134</td><td>1.4145279</td><td>nan</td><td>nan</td><td>0</td><td>nan</td><td>nan</td><td>nan</td><td>NOT_AVAILABLE</td><td>0.9000812444278786</td><td>-35.16988489674799</td><td>299.5535183027801</td><td>-20.74077906454836</td><td>999999</td><td>nan</td><td>nan</td><td>nan</td><td>nan</td><td>nan</td><td>nan</td><td>nan</td><td>nan</td><td>nan</td><td>999999</td><td>nan</td><td>nan</td><td>nan</td><td>nan</td><td>nan</td><td>nan</td><td>http://geadata.esac.esa.int/data-server/datalink/links?ID=6680697835086463232</td><td>?</td></tr>\n",
       "<tr><td>1635721458409799680</td><td>Gaia DR2 6680703568867199872</td><td>6680703568867199872</td><td>290908069</td><td>2015.5</td><td>307.661116283031</td><td>0.178705142295913</td><td>-40.56743094599792</td><td>0.11945327339329859</td><td>0.8308690274783517</td><td>0.21915390438195032</td><td>3.791258</td><td>8.954758016305497</td><td>0.31609578978233005</td><td>0.9267770945965589</td><td>0.2551273132549399</td><td>0.19535571</td><td>0.33841148</td><td>0.013019439</td><td>-0.49577746</td><td>0.15487373</td><td>-0.44471106</td><td>-0.6114589</td><td>-0.319447</td><td>-0.13422011</td><td>0.15206683</td><td>394</td><td>9</td><td>393</td><td>1</td><td>1.3497919</td><td>426.1185</td><td>0.0</td><td>0.0</td><td>31</td><td>False</td><td>0.50800574</td><td>1.37304434701581</td><td>0.0324822703753855</td><td>-0.037831683</td><td>46</td><td>13</td><td>0.2967767</td><td>0</td><td>47</td><td>False</td><td>399</td><td>781.3283504737735</td><td>1.1783790104635194</td><td>663.0535</td><td>18.456282</td><td>44</td><td>221.8781044661774</td><td>7.278324524780401</td><td>30.484777</td><td>19.486101</td><td>44</td><td>839.7244108915888</td><td>8.75606905510612</td><td>95.901985</td><td>17.451578</td><td>1.3587149</td><td>0</td><td>2.034523</td><td>1.0298195</td><td>1.0047035</td><td>nan</td><td>nan</td><td>0</td><td>nan</td><td>nan</td><td>nan</td><td>NOT_AVAILABLE</td><td>0.7767158255316784</td><td>-35.46058541407293</td><td>299.7997903740827</td><td>-20.94490726633648</td><td>999999</td><td>nan</td><td>nan</td><td>nan</td><td>nan</td><td>nan</td><td>nan</td><td>nan</td><td>nan</td><td>nan</td><td>999999</td><td>nan</td><td>nan</td><td>nan</td><td>nan</td><td>nan</td><td>nan</td><td>http://geadata.esac.esa.int/data-server/datalink/links?ID=6680703568867199872</td><td>?</td></tr>\n",
       "<tr><td>1635721458409799680</td><td>Gaia DR2 6680593415842770816</td><td>6680593415842770816</td><td>487801941</td><td>2015.5</td><td>306.79426034859966</td><td>0.2378160660090988</td><td>-40.87566572233217</td><td>0.19709499236704123</td><td>0.9967476716528392</td><td>0.3575426702048396</td><td>2.7877727</td><td>1.0830250282799885</td><td>0.5064563845853944</td><td>-5.964559258289173</td><td>0.39304939134653505</td><td>0.23413713</td><td>0.13474758</td><td>-0.21084951</td><td>-0.38334358</td><td>0.28741065</td><td>-0.4140521</td><td>-0.598911</td><td>-0.62003744</td><td>-0.10207576</td><td>0.19230828</td><td>256</td><td>0</td><td>256</td><td>0</td><td>1.1913308</td><td>277.9354</td><td>0.4507920038537315</td><td>0.6124608765570034</td><td>31</td><td>False</td><td>0.26911035</td><td>1.2364418340046361</td><td>0.060040154051523305</td><td>-0.094562955</td><td>29</td><td>12</td><td>0.50302345</td><td>0</td><td>30</td><td>False</td><td>264</td><td>452.12868025206706</td><td>1.141194436100149</td><td>396.189</td><td>19.05021</td><td>26</td><td>126.40373695250226</td><td>10.095053006103674</td><td>12.521355</td><td>20.096989</td><td>26</td><td>500.66846992768006</td><td>5.801382417710615</td><td>86.30158</td><td>18.013044</td><td>1.3869331</td><td>0</td><td>2.0839443</td><td>1.0467777</td><td>1.0371666</td><td>nan</td><td>nan</td><td>0</td><td>nan</td><td>nan</td><td>nan</td><td>NOT_AVAILABLE</td><td>0.29869524732267705</td><td>-34.84912659913719</td><td>299.0346991687982</td><td>-21.073365405587133</td><td>999999</td><td>nan</td><td>nan</td><td>nan</td><td>nan</td><td>nan</td><td>nan</td><td>nan</td><td>nan</td><td>nan</td><td>999999</td><td>nan</td><td>nan</td><td>nan</td><td>nan</td><td>nan</td><td>nan</td><td>http://geadata.esac.esa.int/data-server/datalink/links?ID=6680593415842770816</td><td>?</td></tr>\n",
       "<tr><td>1635721458409799680</td><td>Gaia DR2 6680594201820701568</td><td>6680594201820701568</td><td>402605070</td><td>2015.5</td><td>306.7879693965589</td><td>0.24296087999325927</td><td>-40.84012754881971</td><td>0.20623018629946002</td><td>0.42647802924904865</td><td>0.39283351304468056</td><td>1.0856458</td><td>6.815546710659861</td><td>0.5182742513202244</td><td>-12.741856519544735</td><td>0.40379102098567715</td><td>0.26840535</td><td>0.11279681</td><td>-0.21117528</td><td>-0.40962356</td><td>0.21440771</td><td>-0.40252957</td><td>-0.60907435</td><td>-0.65543807</td><td>-0.08124741</td><td>0.23058462</td><td>252</td><td>0</td><td>251</td><td>1</td><td>1.3531293</td><td>276.52966</td><td>0.5961179463767848</td><td>1.309400149444918</td><td>31</td><td>False</td><td>0.25158843</td><td>1.3631261606358058</td><td>0.06320770066035798</td><td>-0.062149644</td><td>29</td><td>12</td><td>0.5246985</td><td>0</td><td>30</td><td>False</td><td>259</td><td>449.9371230661395</td><td>1.0588832052367845</td><td>424.91666</td><td>19.055487</td><td>27</td><td>112.6042043548062</td><td>5.266179696293842</td><td>21.382523</td><td>20.222502</td><td>28</td><td>500.193939100419</td><td>7.752804768689406</td><td>64.51781</td><td>18.014074</td><td>1.361964</td><td>0</td><td>2.2084274</td><td>1.1670151</td><td>1.0414124</td><td>nan</td><td>nan</td><td>0</td><td>nan</td><td>nan</td><td>nan</td><td>NOT_AVAILABLE</td><td>0.34084779564263135</td><td>-34.839703449096795</td><td>299.0394905710269</td><td>-21.03779003903699</td><td>999999</td><td>nan</td><td>nan</td><td>nan</td><td>nan</td><td>nan</td><td>nan</td><td>nan</td><td>nan</td><td>nan</td><td>999999</td><td>nan</td><td>nan</td><td>nan</td><td>nan</td><td>nan</td><td>nan</td><td>http://geadata.esac.esa.int/data-server/datalink/links?ID=6680594201820701568</td><td>?</td></tr>\n",
       "<tr><td>1635721458409799680</td><td>Gaia DR2 6680662959951920768</td><td>6680662959951920768</td><td>1094945635</td><td>2015.5</td><td>306.64418974059663</td><td>0.7815119396656506</td><td>-40.39746285455774</td><td>0.7089851738176507</td><td>0.5958000870086939</td><td>0.9307860785341934</td><td>0.64010423</td><td>2.896346643252047</td><td>1.3956970358008058</td><td>-7.450403757990561</td><td>1.3830606008574935</td><td>0.52150697</td><td>0.4689798</td><td>-0.45448604</td><td>-0.42945278</td><td>-0.059774127</td><td>-0.29693943</td><td>-0.39287814</td><td>-0.44485372</td><td>-0.19216795</td><td>0.49139997</td><td>184</td><td>0</td><td>184</td><td>0</td><td>1.331244</td><td>204.65845</td><td>1.1006031852880456</td><td>0.46642028606731945</td><td>31</td><td>False</td><td>0.03864234</td><td>1.2941929510725396</td><td>0.16290807467326748</td><td>0.15553091</td><td>21</td><td>11</td><td>1.6127564</td><td>0</td><td>23</td><td>False</td><td>201</td><td>136.32151382665526</td><td>1.1934970673387388</td><td>114.22023</td><td>20.351955</td><td>15</td><td>31.54362047576421</td><td>4.4735922851454815</td><td>7.0510716</td><td>21.604109</td><td>19</td><td>170.77158819857104</td><td>5.699747638048693</td><td>29.961254</td><td>19.180882</td><td>1.4841033</td><td>0</td><td>2.4232273</td><td>1.2521534</td><td>1.1710739</td><td>nan</td><td>nan</td><td>0</td><td>nan</td><td>nan</td><td>nan</td><td>NOT_AVAILABLE</td><td>0.8565558173627735</td><td>-34.67135722445867</td><td>299.0470563358307</td><td>-20.58192523159926</td><td>999999</td><td>nan</td><td>nan</td><td>nan</td><td>nan</td><td>nan</td><td>nan</td><td>nan</td><td>nan</td><td>nan</td><td>999999</td><td>nan</td><td>nan</td><td>nan</td><td>nan</td><td>nan</td><td>nan</td><td>http://geadata.esac.esa.int/data-server/datalink/links?ID=6680662959951920768</td><td>?</td></tr>\n",
       "<tr><td>1635721458409799680</td><td>Gaia DR2 6680606197663624960</td><td>6680606197663624960</td><td>1242176603</td><td>2015.5</td><td>306.1991944482802</td><td>0.46325438092663673</td><td>-41.033110450656054</td><td>0.3837921510012706</td><td>0.851957943329037</td><td>0.5863074333322961</td><td>1.4530908</td><td>2.3595997374682325</td><td>0.9057055003187021</td><td>2.0393311286456433</td><td>0.8110004746828677</td><td>0.31684327</td><td>0.42242822</td><td>0.046670664</td><td>0.038118742</td><td>0.1585178</td><td>0.14789975</td><td>-0.05986139</td><td>-0.15414305</td><td>-0.21881552</td><td>0.13609561</td><td>141</td><td>0</td><td>140</td><td>1</td><td>2.3422358</td><td>176.4619</td><td>0.8646153936631977</td><td>0.6880900227236504</td><td>31</td><td>False</td><td>0.101080135</td><td>1.4161805755298187</td><td>0.1187079602708346</td><td>0.106006175</td><td>17</td><td>10</td><td>0.824202</td><td>0</td><td>18</td><td>False</td><td>144</td><td>277.9297790301278</td><td>1.404263262569294</td><td>197.91858</td><td>19.578527</td><td>7</td><td>82.2203824808832</td><td>14.85251185276287</td><td>5.5357895</td><td>20.56394</td><td>8</td><td>376.44676916577765</td><td>13.66244828436651</td><td>27.55339</td><td>18.32266</td><td>1.6502987</td><td>0</td><td>2.2412796</td><td>0.9854126</td><td>1.255867</td><td>nan</td><td>nan</td><td>0</td><td>nan</td><td>nan</td><td>nan</td><td>NOT_AVAILABLE</td><td>0.03572200200638733</td><td>-34.42492677733941</td><td>298.52596739940986</td><td>-21.111703133501354</td><td>999999</td><td>nan</td><td>nan</td><td>nan</td><td>nan</td><td>nan</td><td>nan</td><td>nan</td><td>nan</td><td>nan</td><td>999999</td><td>nan</td><td>nan</td><td>nan</td><td>nan</td><td>nan</td><td>nan</td><td>http://geadata.esac.esa.int/data-server/datalink/links?ID=6680606197663624960</td><td>?</td></tr>\n",
       "<tr><td>1635721458409799680</td><td>Gaia DR2 6680667804675061376</td><td>6680667804675061376</td><td>1389459092</td><td>2015.5</td><td>306.5616211634828</td><td>0.5440764282220354</td><td>-40.241497513992734</td><td>0.42046847297673035</td><td>0.683069850884006</td><td>0.7031170059648018</td><td>0.9714882</td><td>5.959858729540772</td><td>0.8981701684931287</td><td>-2.982390016085562</td><td>0.8461063879029024</td><td>0.32717827</td><td>0.56058633</td><td>-0.07646701</td><td>-0.34991148</td><td>-0.062459074</td><td>-0.12861973</td><td>-0.19353934</td><td>-0.23224765</td><td>-0.33173496</td><td>0.28696734</td><td>196</td><td>0</td><td>196</td><td>0</td><td>1.9188575</td><td>230.256</td><td>0.6469505265585788</td><td>0.29318047157268584</td><td>31</td><td>False</td><td>0.07056419</td><td>1.5238467630717343</td><td>0.11916172270294244</td><td>0.060637787</td><td>23</td><td>11</td><td>0.9230822</td><td>0</td><td>25</td><td>False</td><td>214</td><td>189.9219685707628</td><td>0.9248954884945882</td><td>205.34425</td><td>19.991928</td><td>19</td><td>57.80784141250793</td><td>5.141651379442419</td><td>11.24305</td><td>20.94642</td><td>22</td><td>229.14100503836787</td><td>6.719629058733246</td><td>34.100246</td><td>18.861664</td><td>1.5108776</td><td>0</td><td>2.0847569</td><td>0.95449257</td><td>1.1302643</td><td>nan</td><td>nan</td><td>0</td><td>nan</td><td>nan</td><td>nan</td><td>NOT_AVAILABLE</td><td>1.0334465908065626</td><td>-34.58708105565746</td><td>299.0241990935457</td><td>-20.41510186687951</td><td>999999</td><td>nan</td><td>nan</td><td>nan</td><td>nan</td><td>nan</td><td>nan</td><td>nan</td><td>nan</td><td>nan</td><td>999999</td><td>nan</td><td>nan</td><td>nan</td><td>nan</td><td>nan</td><td>nan</td><td>http://geadata.esac.esa.int/data-server/datalink/links?ID=6680667804675061376</td><td>?</td></tr>\n",
       "<tr><td>1635721458409799680</td><td>Gaia DR2 6680657256235267200</td><td>6680657256235267200</td><td>1429669872</td><td>2015.5</td><td>306.3901598413084</td><td>0.9915696820210717</td><td>-40.561991225377135</td><td>0.8413087144823905</td><td>-0.010349946757085941</td><td>1.4825292370697012</td><td>-0.0069812764</td><td>8.319808491290148</td><td>2.127205835016206</td><td>-8.658719353090008</td><td>1.5261613175232494</td><td>0.51068556</td><td>0.14378834</td><td>-0.3990799</td><td>-0.44056997</td><td>-0.07051837</td><td>-0.24072726</td><td>-0.4611114</td><td>-0.70273274</td><td>-0.13134997</td><td>0.43531567</td><td>140</td><td>0</td><td>140</td><td>0</td><td>4.858121</td><td>230.641</td><td>3.5772127768227966</td><td>4.744427498080604</td><td>31</td><td>False</td><td>0.027388068</td><td>1.3842456541934278</td><td>0.22643025236353326</td><td>-0.016390689</td><td>16</td><td>10</td><td>2.1947649</td><td>0</td><td>18</td><td>False</td><td>157</td><td>143.87055075534587</td><td>1.2503476814625456</td><td>115.06444</td><td>20.293436</td><td>11</td><td>48.793320146188556</td><td>7.475285552716526</td><td>6.527285</td><td>21.130487</td><td>17</td><td>190.664144370096</td><td>8.419748588192322</td><td>22.644875</td><td>19.061247</td><td>1.6643952</td><td>0</td><td>2.0692406</td><td>0.8370514</td><td>1.2321892</td><td>nan</td><td>nan</td><td>0</td><td>nan</td><td>nan</td><td>nan</td><td>NOT_AVAILABLE</td><td>0.6258809929428045</td><td>-34.503009924910295</td><td>298.8028288838004</td><td>-20.69223099930103</td><td>999999</td><td>nan</td><td>nan</td><td>nan</td><td>nan</td><td>nan</td><td>nan</td><td>nan</td><td>nan</td><td>nan</td><td>999999</td><td>nan</td><td>nan</td><td>nan</td><td>nan</td><td>nan</td><td>nan</td><td>http://geadata.esac.esa.int/data-server/datalink/links?ID=6680657256235267200</td><td>?</td></tr>\n",
       "<tr><td>...</td><td>...</td><td>...</td><td>...</td><td>...</td><td>...</td><td>...</td><td>...</td><td>...</td><td>...</td><td>...</td><td>...</td><td>...</td><td>...</td><td>...</td><td>...</td><td>...</td><td>...</td><td>...</td><td>...</td><td>...</td><td>...</td><td>...</td><td>...</td><td>...</td><td>...</td><td>...</td><td>...</td><td>...</td><td>...</td><td>...</td><td>...</td><td>...</td><td>...</td><td>...</td><td>...</td><td>...</td><td>...</td><td>...</td><td>...</td><td>...</td><td>...</td><td>...</td><td>...</td><td>...</td><td>...</td><td>...</td><td>...</td><td>...</td><td>...</td><td>...</td><td>...</td><td>...</td><td>...</td><td>...</td><td>...</td><td>...</td><td>...</td><td>...</td><td>...</td><td>...</td><td>...</td><td>...</td><td>...</td><td>...</td><td>...</td><td>...</td><td>...</td><td>...</td><td>...</td><td>...</td><td>...</td><td>...</td><td>...</td><td>...</td><td>...</td><td>...</td><td>...</td><td>...</td><td>...</td><td>...</td><td>...</td><td>...</td><td>...</td><td>...</td><td>...</td><td>...</td><td>...</td><td>...</td><td>...</td><td>...</td><td>...</td><td>...</td><td>...</td><td>...</td><td>...</td></tr>\n",
       "<tr><td>1635721458409799680</td><td>Gaia DR2 6680658488891504768</td><td>6680658488891504768</td><td>439091573</td><td>2015.5</td><td>306.3862808304289</td><td>0.35664956738650583</td><td>-40.50244801636409</td><td>0.32413489285923786</td><td>0.457568800822284</td><td>0.5659754266371825</td><td>0.80846053</td><td>10.438433121692066</td><td>0.7479436007506339</td><td>-9.81363885024119</td><td>0.5942345688947314</td><td>0.28132263</td><td>0.3463368</td><td>-0.30055362</td><td>-0.22363882</td><td>-0.040311836</td><td>-0.065006115</td><td>-0.2374795</td><td>-0.7064547</td><td>-0.24194278</td><td>0.335972</td><td>171</td><td>0</td><td>170</td><td>1</td><td>5.598874</td><td>288.0705</td><td>1.4829154497869117</td><td>3.966728068048164</td><td>31</td><td>False</td><td>0.124797605</td><td>1.4809591908388622</td><td>0.08930243261568693</td><td>0.00082583824</td><td>20</td><td>11</td><td>0.7725038</td><td>0</td><td>22</td><td>False</td><td>188</td><td>357.66630157288205</td><td>1.31365838858343</td><td>272.26736</td><td>19.30467</td><td>18</td><td>107.70318717588647</td><td>8.93393552816896</td><td>12.055514</td><td>20.270817</td><td>20</td><td>414.8573968241637</td><td>7.706204749429754</td><td>53.834206</td><td>18.217173</td><td>1.4610283</td><td>0</td><td>2.0536442</td><td>0.96614647</td><td>1.0874977</td><td>nan</td><td>nan</td><td>0</td><td>nan</td><td>nan</td><td>nan</td><td>NOT_AVAILABLE</td><td>0.6969116258488138</td><td>-34.49173391692272</td><td>298.8158294831559</td><td>-20.633869062881526</td><td>999999</td><td>nan</td><td>nan</td><td>nan</td><td>nan</td><td>nan</td><td>nan</td><td>nan</td><td>nan</td><td>nan</td><td>999999</td><td>nan</td><td>nan</td><td>nan</td><td>nan</td><td>nan</td><td>nan</td><td>http://geadata.esac.esa.int/data-server/datalink/links?ID=6680658488891504768</td><td>?</td></tr>\n",
       "<tr><td>1635721458409799680</td><td>Gaia DR2 6680613585008484736</td><td>6680613585008484736</td><td>1113819383</td><td>2015.5</td><td>306.4728104085869</td><td>1.3209123761807682</td><td>-40.914025525330295</td><td>1.2095893557949522</td><td>0.047509805337894936</td><td>1.4935241972825437</td><td>0.031810537</td><td>4.820992219255147</td><td>2.839562173883736</td><td>-9.162640070214962</td><td>2.2258772551295327</td><td>0.5832663</td><td>-0.18905601</td><td>-0.4621916</td><td>-0.3234614</td><td>-0.06875177</td><td>-0.41585976</td><td>-0.34268463</td><td>-0.08647389</td><td>-0.044138767</td><td>0.19305478</td><td>111</td><td>0</td><td>111</td><td>0</td><td>2.304514</td><td>142.40605</td><td>3.414425500975192</td><td>2.2776802075715743</td><td>31</td><td>False</td><td>0.019480433</td><td>1.3629620291995745</td><td>0.29864242537455754</td><td>0.11137674</td><td>13</td><td>7</td><td>2.7431893</td><td>0</td><td>14</td><td>False</td><td>121</td><td>92.55718879384803</td><td>0.9583918948058371</td><td>96.575516</td><td>20.77234</td><td>10</td><td>25.34479924857014</td><td>5.849626430557616</td><td>4.332721</td><td>21.841665</td><td>13</td><td>146.64144883205304</td><td>8.100842155338684</td><td>18.102001</td><td>19.346277</td><td>1.8581619</td><td>0</td><td>2.495388</td><td>1.0693245</td><td>1.4260635</td><td>nan</td><td>nan</td><td>0</td><td>nan</td><td>nan</td><td>nan</td><td>NOT_AVAILABLE</td><td>0.21293618963362382</td><td>-34.6134420623674</td><td>298.7724252578983</td><td>-21.048661744535828</td><td>999999</td><td>nan</td><td>nan</td><td>nan</td><td>nan</td><td>nan</td><td>nan</td><td>nan</td><td>nan</td><td>nan</td><td>999999</td><td>nan</td><td>nan</td><td>nan</td><td>nan</td><td>nan</td><td>nan</td><td>http://geadata.esac.esa.int/data-server/datalink/links?ID=6680613585008484736</td><td>?</td></tr>\n",
       "<tr><td>1635721458409799680</td><td>Gaia DR2 6680711987003304448</td><td>6680711987003304448</td><td>542544051</td><td>2015.5</td><td>307.82317062452216</td><td>0.39396143761966035</td><td>-40.382584515125465</td><td>0.3315878228137329</td><td>0.8599244409212802</td><td>0.5789244641121865</td><td>1.4853828</td><td>-1.0510619011073437</td><td>0.8585199706357385</td><td>-4.161550785504934</td><td>0.7334673751173904</td><td>0.23013142</td><td>0.1666004</td><td>-0.14822483</td><td>-0.34757048</td><td>0.30885217</td><td>-0.2921362</td><td>-0.65846026</td><td>-0.2950532</td><td>-0.12592189</td><td>0.053865947</td><td>394</td><td>0</td><td>392</td><td>2</td><td>1.543875</td><td>430.84406</td><td>0.7932287864504476</td><td>0.6648754937068232</td><td>31</td><td>False</td><td>0.06841816</td><td>1.4409896364971735</td><td>0.0869823528296555</td><td>-0.047520295</td><td>45</td><td>12</td><td>0.7946139</td><td>0</td><td>46</td><td>False</td><td>401</td><td>215.86384094003057</td><td>0.835087476770861</td><td>258.4925</td><td>19.852917</td><td>38</td><td>67.64070787289599</td><td>6.125067864468763</td><td>11.043259</td><td>20.775867</td><td>43</td><td>253.2711445952262</td><td>8.804497455392509</td><td>28.76611</td><td>18.752956</td><td>1.4866401</td><td>0</td><td>2.022911</td><td>0.92295074</td><td>1.0999603</td><td>nan</td><td>nan</td><td>0</td><td>nan</td><td>nan</td><td>nan</td><td>NOT_AVAILABLE</td><td>1.0212507715713675</td><td>-35.559284503103534</td><td>299.9787129450149</td><td>-20.798569713592123</td><td>999999</td><td>nan</td><td>nan</td><td>nan</td><td>nan</td><td>nan</td><td>nan</td><td>nan</td><td>nan</td><td>nan</td><td>999999</td><td>nan</td><td>nan</td><td>nan</td><td>nan</td><td>nan</td><td>nan</td><td>http://geadata.esac.esa.int/data-server/datalink/links?ID=6680711987003304448</td><td>?</td></tr>\n",
       "<tr><td>1635721458409799680</td><td>Gaia DR2 6680581802250590976</td><td>6680581802250590976</td><td>1586743549</td><td>2015.5</td><td>306.7153178233732</td><td>0.7337892353412381</td><td>-41.06854150920833</td><td>0.6202029708660793</td><td>0.5886877309297723</td><td>0.816141419722437</td><td>0.721306</td><td>-0.13232335825327146</td><td>1.6888954849239635</td><td>-4.0149075853714775</td><td>1.2930035363425951</td><td>0.48441365</td><td>0.03531596</td><td>-0.54669183</td><td>-0.45714098</td><td>0.09119924</td><td>-0.3750962</td><td>-0.75422007</td><td>-0.14983842</td><td>-0.13429141</td><td>0.12210903</td><td>255</td><td>0</td><td>253</td><td>2</td><td>0.111029424</td><td>249.81046</td><td>0.0</td><td>0.0</td><td>31</td><td>False</td><td>0.043268107</td><td>1.3819285540149076</td><td>0.14247481508456597</td><td>-0.032799408</td><td>29</td><td>10</td><td>1.6147867</td><td>0</td><td>31</td><td>False</td><td>270</td><td>146.1522745224296</td><td>0.8001228964711409</td><td>182.66228</td><td>20.276352</td><td>19</td><td>47.80956488583334</td><td>7.33894086255192</td><td>6.514505</td><td>21.152601</td><td>30</td><td>189.64888242419607</td><td>7.090464850161515</td><td>26.74703</td><td>19.067045</td><td>1.6247332</td><td>0</td><td>2.085556</td><td>0.8762493</td><td>1.2093067</td><td>nan</td><td>nan</td><td>0</td><td>nan</td><td>nan</td><td>nan</td><td>NOT_AVAILABLE</td><td>0.0562116287633795</td><td>-34.81539434731723</td><td>298.9201160490555</td><td>-21.244640101103766</td><td>999999</td><td>nan</td><td>nan</td><td>nan</td><td>nan</td><td>nan</td><td>nan</td><td>nan</td><td>nan</td><td>nan</td><td>999999</td><td>nan</td><td>nan</td><td>nan</td><td>nan</td><td>nan</td><td>nan</td><td>http://geadata.esac.esa.int/data-server/datalink/links?ID=6680581802250590976</td><td>?</td></tr>\n",
       "<tr><td>1635721458409799680</td><td>Gaia DR2 6680725559100127360</td><td>6680725559100127360</td><td>572625623</td><td>2015.5</td><td>307.40152303560177</td><td>0.3762969240824603</td><td>-40.26264630933956</td><td>0.34622801161618844</td><td>0.4567645434904806</td><td>0.4692804038703606</td><td>0.97332966</td><td>5.792290526675509</td><td>0.7467076643144026</td><td>-0.14795389120715918</td><td>0.7494917104417882</td><td>0.4215674</td><td>0.25857928</td><td>-0.27773595</td><td>-0.53002256</td><td>0.29807964</td><td>-0.4139904</td><td>-0.79215056</td><td>-0.30518213</td><td>-0.2584115</td><td>0.23681203</td><td>365</td><td>0</td><td>363</td><td>2</td><td>1.6587802</td><td>403.52307</td><td>0.0</td><td>0.0</td><td>31</td><td>False</td><td>0.101643346</td><td>1.2853041889733576</td><td>0.07471841331521879</td><td>-0.016843673</td><td>42</td><td>12</td><td>0.82149506</td><td>0</td><td>44</td><td>False</td><td>377</td><td>246.0287440365135</td><td>0.8556501141652962</td><td>287.53427</td><td>19.710901</td><td>35</td><td>66.39054780712777</td><td>7.0429656985365225</td><td>9.426504</td><td>20.796122</td><td>40</td><td>300.8322441157131</td><td>6.4973600113338685</td><td>46.30069</td><td>18.566109</td><td>1.4926012</td><td>0</td><td>2.230013</td><td>1.0852203</td><td>1.1447926</td><td>nan</td><td>nan</td><td>0</td><td>nan</td><td>nan</td><td>nan</td><td>NOT_AVAILABLE</td><td>1.1155927305702864</td><td>-35.22490042134852</td><td>299.68010980947514</td><td>-20.599312851871158</td><td>999999</td><td>nan</td><td>nan</td><td>nan</td><td>nan</td><td>nan</td><td>nan</td><td>nan</td><td>nan</td><td>nan</td><td>999999</td><td>nan</td><td>nan</td><td>nan</td><td>nan</td><td>nan</td><td>nan</td><td>http://geadata.esac.esa.int/data-server/datalink/links?ID=6680725559100127360</td><td>?</td></tr>\n",
       "<tr><td>1635721458409799680</td><td>Gaia DR2 6680649417920548864</td><td>6680649417920548864</td><td>286312811</td><td>2015.5</td><td>306.6747659186374</td><td>0.4478735040349171</td><td>-40.54280421874324</td><td>0.397165466907343</td><td>0.812997834913047</td><td>0.6419150887552547</td><td>1.2665193</td><td>1.1844120284636779</td><td>0.8333640174936829</td><td>-0.10145682480303767</td><td>0.8033095631495638</td><td>0.32014775</td><td>0.38553414</td><td>-0.051427647</td><td>-0.047139417</td><td>0.045240376</td><td>-0.009420533</td><td>0.08331706</td><td>-0.55426836</td><td>-0.12048951</td><td>0.32722315</td><td>155</td><td>0</td><td>150</td><td>5</td><td>6.548312</td><td>286.49246</td><td>1.8385777885176364</td><td>7.853665669942107</td><td>31</td><td>False</td><td>0.09455461</td><td>1.3659802523749476</td><td>0.10833952437052638</td><td>0.10857827</td><td>18</td><td>11</td><td>0.8600706</td><td>0</td><td>19</td><td>False</td><td>158</td><td>310.5237041903056</td><td>1.7270960019408885</td><td>179.79527</td><td>19.458128</td><td>12</td><td>59.00076504073711</td><td>9.137445838101142</td><td>6.4570303</td><td>20.924244</td><td>16</td><td>409.5819813959716</td><td>8.259163600004204</td><td>49.591217</td><td>18.231068</td><td>1.5090079</td><td>0</td><td>2.6931763</td><td>1.466116</td><td>1.2270603</td><td>nan</td><td>nan</td><td>0</td><td>nan</td><td>nan</td><td>nan</td><td>NOT_AVAILABLE</td><td>0.6854031226007911</td><td>-34.71450672886314</td><td>299.03167749327156</td><td>-20.728411029186372</td><td>999999</td><td>nan</td><td>nan</td><td>nan</td><td>nan</td><td>nan</td><td>nan</td><td>nan</td><td>nan</td><td>nan</td><td>999999</td><td>nan</td><td>nan</td><td>nan</td><td>nan</td><td>nan</td><td>nan</td><td>http://geadata.esac.esa.int/data-server/datalink/links?ID=6680649417920548864</td><td>?</td></tr>\n",
       "<tr><td>1635721458409799680</td><td>Gaia DR2 6680740578601027072</td><td>6680740578601027072</td><td>974196937</td><td>2015.5</td><td>307.0374611733867</td><td>0.9256421016549052</td><td>-40.475788748861845</td><td>0.5917364369705526</td><td>0.12605328511822575</td><td>0.958570918891539</td><td>0.13150126</td><td>10.793984388555897</td><td>1.599594475090747</td><td>-0.4108554206442695</td><td>1.2879629405630584</td><td>0.44587553</td><td>0.5943016</td><td>-0.40503418</td><td>-0.61052126</td><td>0.15171719</td><td>-0.52317125</td><td>-0.69618756</td><td>-0.29767248</td><td>-0.27650332</td><td>0.348783</td><td>260</td><td>0</td><td>257</td><td>3</td><td>2.79821</td><td>319.4028</td><td>1.5458652899198062</td><td>1.322123223572699</td><td>31</td><td>False</td><td>0.037744265</td><td>1.1136278599025942</td><td>0.16988077782017713</td><td>0.020182636</td><td>30</td><td>10</td><td>1.6999719</td><td>0</td><td>31</td><td>False</td><td>264</td><td>132.78356122915267</td><td>0.7813039507466701</td><td>169.95122</td><td>20.380505</td><td>23</td><td>49.857031825774804</td><td>7.773879110835207</td><td>6.4134045</td><td>21.107073</td><td>27</td><td>192.18394244024714</td><td>5.576134600394427</td><td>34.465443</td><td>19.052628</td><td>1.8228233</td><td>0</td><td>2.0544453</td><td>0.7265682</td><td>1.327877</td><td>nan</td><td>nan</td><td>0</td><td>nan</td><td>nan</td><td>nan</td><td>NOT_AVAILABLE</td><td>0.8119850688420618</td><td>-34.97859244349123</td><td>299.33504968654125</td><td>-20.73396062672906</td><td>999999</td><td>nan</td><td>nan</td><td>nan</td><td>nan</td><td>nan</td><td>nan</td><td>nan</td><td>nan</td><td>nan</td><td>999999</td><td>nan</td><td>nan</td><td>nan</td><td>nan</td><td>nan</td><td>nan</td><td>http://geadata.esac.esa.int/data-server/datalink/links?ID=6680740578601027072</td><td>?</td></tr>\n",
       "<tr><td>1635721458409799680</td><td>Gaia DR2 6680738684519837312</td><td>6680738684519837312</td><td>1307422959</td><td>2015.5</td><td>306.8932529528667</td><td>0.370210183770429</td><td>-40.54743283943879</td><td>0.27634048143808015</td><td>0.8684318890920312</td><td>0.5140687131107146</td><td>1.6893303</td><td>0.22358953432206286</td><td>0.6307592176934331</td><td>6.295189728084427</td><td>0.5799528377931656</td><td>0.29442367</td><td>0.5410264</td><td>-0.26509425</td><td>-0.3868682</td><td>0.15186496</td><td>-0.3054574</td><td>-0.52469695</td><td>-0.49356258</td><td>-0.22110301</td><td>0.27223206</td><td>291</td><td>0</td><td>291</td><td>0</td><td>2.4990451</td><td>349.26642</td><td>1.140643585696291</td><td>1.8769901897523231</td><td>31</td><td>False</td><td>0.106609836</td><td>1.3119025383083776</td><td>0.08248926492652965</td><td>0.023596024</td><td>33</td><td>12</td><td>0.67862815</td><td>0</td><td>34</td><td>False</td><td>299</td><td>266.7608922345548</td><td>0.8992277007246894</td><td>296.65555</td><td>19.62306</td><td>24</td><td>63.54103545126085</td><td>5.876235630080113</td><td>10.813221</td><td>20.843752</td><td>28</td><td>322.308436495712</td><td>7.3000005473061895</td><td>44.151836</td><td>18.491241</td><td>1.4464245</td><td>0</td><td>2.3525105</td><td>1.2206917</td><td>1.1318188</td><td>nan</td><td>nan</td><td>0</td><td>nan</td><td>nan</td><td>nan</td><td>NOT_AVAILABLE</td><td>0.7073661075833161</td><td>-34.87961612572416</td><td>299.20210610262745</td><td>-20.775176333080513</td><td>999999</td><td>nan</td><td>nan</td><td>nan</td><td>nan</td><td>nan</td><td>nan</td><td>nan</td><td>nan</td><td>nan</td><td>999999</td><td>nan</td><td>nan</td><td>nan</td><td>nan</td><td>nan</td><td>nan</td><td>http://geadata.esac.esa.int/data-server/datalink/links?ID=6680738684519837312</td><td>?</td></tr>\n",
       "<tr><td>1635721458409799680</td><td>Gaia DR2 6680797474033402624</td><td>6680797474033402624</td><td>1322275796</td><td>2015.5</td><td>307.0124991984024</td><td>0.28409828472247944</td><td>-39.77110291463047</td><td>0.29097949704618153</td><td>0.33979470182830185</td><td>0.5449549752700064</td><td>0.623528</td><td>7.79293219763178</td><td>0.686846257223949</td><td>-2.807616414306149</td><td>0.5431385488368067</td><td>0.38066196</td><td>0.2758555</td><td>-0.29021254</td><td>-0.28254345</td><td>0.29486686</td><td>-0.35872337</td><td>-0.5102747</td><td>-0.76287156</td><td>-0.28526682</td><td>0.42469338</td><td>177</td><td>0</td><td>176</td><td>1</td><td>0.89279604</td><td>187.33841</td><td>0.0</td><td>0.0</td><td>31</td><td>False</td><td>0.1881411</td><td>1.219294082728595</td><td>0.0752710798844269</td><td>0.004588731</td><td>20</td><td>11</td><td>0.74327385</td><td>0</td><td>21</td><td>False</td><td>185</td><td>382.1116189004285</td><td>1.1600307137087522</td><td>329.39786</td><td>19.23289</td><td>16</td><td>86.80845760550919</td><td>11.865692079390998</td><td>7.3159204</td><td>20.504984</td><td>20</td><td>467.80300284873533</td><td>7.198938417034489</td><td>64.98222</td><td>18.086763</td><td>1.4514383</td><td>0</td><td>2.4182205</td><td>1.2720947</td><td>1.1461258</td><td>nan</td><td>nan</td><td>0</td><td>nan</td><td>nan</td><td>nan</td><td>NOT_AVAILABLE</td><td>1.659851307663399</td><td>-34.861820737728266</td><td>299.50747919254206</td><td>-20.047794204805907</td><td>999999</td><td>nan</td><td>nan</td><td>nan</td><td>nan</td><td>nan</td><td>nan</td><td>nan</td><td>nan</td><td>nan</td><td>999999</td><td>nan</td><td>nan</td><td>nan</td><td>nan</td><td>nan</td><td>nan</td><td>http://geadata.esac.esa.int/data-server/datalink/links?ID=6680797474033402624</td><td>?</td></tr>\n",
       "<tr><td>1635721458409799680</td><td>Gaia DR2 6680661684347198208</td><td>6680661684347198208</td><td>1242203500</td><td>2015.5</td><td>306.6681406119463</td><td>0.7209042052763549</td><td>-40.451787806442525</td><td>0.6892850763024791</td><td>0.9086022710004601</td><td>0.9494708198598487</td><td>0.9569565</td><td>7.166959426275253</td><td>1.2122831097844735</td><td>-5.270382594293751</td><td>1.3033489864953625</td><td>0.52140844</td><td>0.48419285</td><td>-0.47965398</td><td>-0.48818997</td><td>-0.102693714</td><td>-0.27818614</td><td>-0.41511673</td><td>-0.5389637</td><td>-0.2377075</td><td>0.59002227</td><td>177</td><td>0</td><td>175</td><td>2</td><td>2.8324707</td><td>226.9501</td><td>1.998103056722815</td><td>2.7834647679154507</td><td>31</td><td>False</td><td>0.050070766</td><td>1.2053185116298684</td><td>0.14657046553217695</td><td>0.12964985</td><td>20</td><td>10</td><td>1.5261471</td><td>0</td><td>22</td><td>False</td><td>184</td><td>170.3538408801309</td><td>1.031871324413787</td><td>165.09213</td><td>20.109985</td><td>15</td><td>51.57772274130149</td><td>7.043992557173972</td><td>7.3222284</td><td>21.070232</td><td>19</td><td>208.2192680963936</td><td>9.873013629293734</td><td>21.089737</td><td>18.965618</td><td>1.5250434</td><td>0</td><td>2.1046143</td><td>0.96024704</td><td>1.1443672</td><td>nan</td><td>nan</td><td>0</td><td>nan</td><td>nan</td><td>nan</td><td>NOT_AVAILABLE</td><td>0.7942132245900052</td><td>-34.696961869910126</td><td>299.0511728952022</td><td>-20.639098567060433</td><td>999999</td><td>nan</td><td>nan</td><td>nan</td><td>nan</td><td>nan</td><td>nan</td><td>nan</td><td>nan</td><td>nan</td><td>999999</td><td>nan</td><td>nan</td><td>nan</td><td>nan</td><td>nan</td><td>nan</td><td>http://geadata.esac.esa.int/data-server/datalink/links?ID=6680661684347198208</td><td>?</td></tr>\n",
       "</table>"
      ],
      "text/plain": [
       "<Table length=468827>\n",
       "    solution_id             designation          ... epoch_photometry_url\n",
       "       int64                   str28             ...        str99        \n",
       "------------------- ---------------------------- ... --------------------\n",
       "1635721458409799680 Gaia DR2 6680608701630013184 ...                    ?\n",
       "1635721458409799680 Gaia DR2 6680584276152361216 ...                    ?\n",
       "1635721458409799680 Gaia DR2 6680697835086463232 ...                    ?\n",
       "1635721458409799680 Gaia DR2 6680703568867199872 ...                    ?\n",
       "1635721458409799680 Gaia DR2 6680593415842770816 ...                    ?\n",
       "1635721458409799680 Gaia DR2 6680594201820701568 ...                    ?\n",
       "1635721458409799680 Gaia DR2 6680662959951920768 ...                    ?\n",
       "1635721458409799680 Gaia DR2 6680606197663624960 ...                    ?\n",
       "1635721458409799680 Gaia DR2 6680667804675061376 ...                    ?\n",
       "1635721458409799680 Gaia DR2 6680657256235267200 ...                    ?\n",
       "                ...                          ... ...                  ...\n",
       "1635721458409799680 Gaia DR2 6680658488891504768 ...                    ?\n",
       "1635721458409799680 Gaia DR2 6680613585008484736 ...                    ?\n",
       "1635721458409799680 Gaia DR2 6680711987003304448 ...                    ?\n",
       "1635721458409799680 Gaia DR2 6680581802250590976 ...                    ?\n",
       "1635721458409799680 Gaia DR2 6680725559100127360 ...                    ?\n",
       "1635721458409799680 Gaia DR2 6680649417920548864 ...                    ?\n",
       "1635721458409799680 Gaia DR2 6680740578601027072 ...                    ?\n",
       "1635721458409799680 Gaia DR2 6680738684519837312 ...                    ?\n",
       "1635721458409799680 Gaia DR2 6680797474033402624 ...                    ?\n",
       "1635721458409799680 Gaia DR2 6680661684347198208 ...                    ?"
      ]
     },
     "execution_count": 11,
     "metadata": {},
     "output_type": "execute_result"
    }
   ],
   "source": [
    "gaiaData"
   ]
  },
  {
   "cell_type": "code",
   "execution_count": null,
   "metadata": {
    "collapsed": true
   },
   "outputs": [],
   "source": []
  }
 ],
 "metadata": {
  "kernelspec": {
   "display_name": "Python 3",
   "language": "python",
   "name": "python3"
  },
  "language_info": {
   "codemirror_mode": {
    "name": "ipython",
    "version": 3
   },
   "file_extension": ".py",
   "mimetype": "text/x-python",
   "name": "python",
   "nbconvert_exporter": "python",
   "pygments_lexer": "ipython3",
   "version": "3.6.3"
  }
 },
 "nbformat": 4,
 "nbformat_minor": 2
}
