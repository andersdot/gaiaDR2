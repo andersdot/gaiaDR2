{
 "cells": [
  {
   "cell_type": "code",
   "execution_count": 1,
   "metadata": {},
   "outputs": [],
   "source": [
    "# Some imports we'll need later:\n",
    "\n",
    "# Third-party\n",
    "import astropy.units as u\n",
    "import astropy.coordinates as coord\n",
    "from astropy.io import ascii\n",
    "import matplotlib.pyplot as plt\n",
    "import numpy as np\n",
    "\n",
    "# Gala\n",
    "from gala.mpl_style import mpl_style\n",
    "plt.style.use(mpl_style)\n",
    "import gala.dynamics as gd\n",
    "import gala.integrate as gi\n",
    "import gala.potential as gp\n",
    "from gala.units import galactic\n",
    "%matplotlib inline"
   ]
  },
  {
   "cell_type": "code",
   "execution_count": 2,
   "metadata": {},
   "outputs": [],
   "source": [
    "potential = gp.MilkyWayPotential()"
   ]
  },
  {
   "cell_type": "code",
   "execution_count": null,
   "metadata": {},
   "outputs": [],
   "source": [
    "\n",
    "\n",
    "icrs = coord.ICRS(ra=coord.Angle('17h 20m 12.4s'),\n",
    "                  dec=coord.Angle('+57° 54′ 55″'),\n",
    "                  distance=76*u.kpc,\n",
    "                  pm_ra_cosdec=0.0569*u.mas/u.yr,\n",
    "                  pm_dec=-0.1673*u.mas/u.yr,\n",
    "                  radial_velocity=-291*u.km/u.s)\n",
    "\n",
    "icrs_err = coord.ICRS(ra=0*u.deg, dec=0*u.deg, distance=6*u.kpc,\n",
    "                      pm_ra_cosdec=0.009*u.mas/u.yr,\n",
    "                      pm_dec=0.009*u.mas/u.yr,\n",
    "                      radial_velocity=0.1*u.km/u.s)"
   ]
  }
 ],
 "metadata": {
  "kernelspec": {
   "display_name": "Python 3",
   "language": "python",
   "name": "python3"
  },
  "language_info": {
   "codemirror_mode": {
    "name": "ipython",
    "version": 3
   },
   "file_extension": ".py",
   "mimetype": "text/x-python",
   "name": "python",
   "nbconvert_exporter": "python",
   "pygments_lexer": "ipython3",
   "version": "3.6.3"
  }
 },
 "nbformat": 4,
 "nbformat_minor": 2
}
